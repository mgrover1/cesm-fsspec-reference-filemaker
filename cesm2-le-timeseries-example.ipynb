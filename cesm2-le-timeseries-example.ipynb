{
 "cells": [
  {
   "cell_type": "markdown",
   "id": "121dff2d-6787-43e4-b62a-3c632491c64d",
   "metadata": {},
   "source": [
    "# CESM Timeseries on the Cloud Example\n",
    "\n",
    "Here, we use a subset of the CESM2-Large Ensemble to take a look at performance of reading in datasets.\n",
    "\n",
    "Here, we use a single ensemble member historical experiment with daily data from 1850 to 2009, with a total dataset size of 600+ GB, from 13 netCDF4 files.\n",
    "\n",
    "| File Access Method | Dataset Lazy Read In Wall Time | Visualization Wall Time |\n",
    "| --- | --- | --- |\n",
    "| s3 netcdf | 21.3 s | 6 min 21 s |\n",
    "| kerchunk | 2.2 s | 40.2 s |\n",
    "\n",
    "The **\"s3netcdf\"** refers to accessing the data remotely using the traditional s3 api, the interface with Amazon's cloud storage. There are Google and Microsoft equivalents of this\n",
    "\n",
    "**Kerchunk** is a new package, developed within the fsspec python community, which aims to improve io performance when reading from cloud hosted datasets which are not neccessarily in a ***\"cloud optimized*** format (ex. netCDF vs. Zarr) where netCDF was engineered to performant on regular POSIX filesystems\n"
   ]
  },
  {
   "cell_type": "markdown",
   "id": "dd8b241d-c14d-45a6-bdf3-39ed341fb7da",
   "metadata": {},
   "source": [
    "## Imports"
   ]
  },
  {
   "cell_type": "code",
   "execution_count": 2,
   "id": "54649cba-e6bd-4b32-9306-5b742f66bf2f",
   "metadata": {},
   "outputs": [],
   "source": [
    "import os\n",
    "import fsspec\n",
    "import s3fs\n",
    "import ujson   # fast json\n",
    "from fsspec_reference_maker.hdf import SingleHdf5ToZarr \n",
    "from fsspec_reference_maker.combine import MultiZarrToZarr\n",
    "import xarray as xr\n",
    "import dask\n",
    "import hvplot.xarray\n",
    "import fsspec_reference_maker\n",
    "from ncar_jobqueue import NCARCluster\n",
    "from distributed import Client\n",
    "import cftime\n",
    "import glob"
   ]
  },
  {
   "cell_type": "markdown",
   "id": "25677100-da10-45f8-8b8a-771a8c5197d9",
   "metadata": {},
   "source": [
    "## Gather a list of files available from an Amazon s3 bucket\n",
    "As mentioned previously, s3 is Amazon's object store file system. For this example, I moved a single ensemble member's worth of **daily historical timeseries output** from the CESM2-LE dataset. "
   ]
  },
  {
   "cell_type": "code",
   "execution_count": 5,
   "id": "5d4cfa97-2a6c-4bfe-8d6a-1e83f2c0e9d4",
   "metadata": {},
   "outputs": [],
   "source": [
    "fs = fsspec.filesystem('s3', anon=True, skip_instance_cache=True)"
   ]
  },
  {
   "cell_type": "code",
   "execution_count": 6,
   "id": "a12245ab-3697-4a02-9f40-01b1cf972872",
   "metadata": {},
   "outputs": [
    {
     "data": {
      "text/plain": [
       "['ncar-cesm2-lens/tseries/b.e21.BHISTcmip6.f09_g17.LE2-1001.001.cam.h6.T.18500101-18591231.nc',\n",
       " 'ncar-cesm2-lens/tseries/b.e21.BHISTcmip6.f09_g17.LE2-1001.001.cam.h6.T.18600101-18691231.nc',\n",
       " 'ncar-cesm2-lens/tseries/b.e21.BHISTcmip6.f09_g17.LE2-1001.001.cam.h6.T.18700101-18791231.nc',\n",
       " 'ncar-cesm2-lens/tseries/b.e21.BHISTcmip6.f09_g17.LE2-1001.001.cam.h6.T.18800101-18891231.nc',\n",
       " 'ncar-cesm2-lens/tseries/b.e21.BHISTcmip6.f09_g17.LE2-1001.001.cam.h6.T.18900101-18991231.nc',\n",
       " 'ncar-cesm2-lens/tseries/b.e21.BHISTcmip6.f09_g17.LE2-1001.001.cam.h6.T.19000101-19091231.nc',\n",
       " 'ncar-cesm2-lens/tseries/b.e21.BHISTcmip6.f09_g17.LE2-1001.001.cam.h6.T.19100101-19191231.nc',\n",
       " 'ncar-cesm2-lens/tseries/b.e21.BHISTcmip6.f09_g17.LE2-1001.001.cam.h6.T.19200101-19291231.nc',\n",
       " 'ncar-cesm2-lens/tseries/b.e21.BHISTcmip6.f09_g17.LE2-1001.001.cam.h6.T.19300101-19391231.nc',\n",
       " 'ncar-cesm2-lens/tseries/b.e21.BHISTcmip6.f09_g17.LE2-1001.001.cam.h6.T.19400101-19491231.nc',\n",
       " 'ncar-cesm2-lens/tseries/b.e21.BHISTcmip6.f09_g17.LE2-1001.001.cam.h6.T.19500101-19591231.nc',\n",
       " 'ncar-cesm2-lens/tseries/b.e21.BHISTcmip6.f09_g17.LE2-1001.001.cam.h6.T.19600101-19691231.nc',\n",
       " 'ncar-cesm2-lens/tseries/b.e21.BHISTcmip6.f09_g17.LE2-1001.001.cam.h6.T.19700101-19791231.nc',\n",
       " 'ncar-cesm2-lens/tseries/b.e21.BHISTcmip6.f09_g17.LE2-1001.001.cam.h6.T.19800101-19891231.nc',\n",
       " 'ncar-cesm2-lens/tseries/b.e21.BHISTcmip6.f09_g17.LE2-1001.001.cam.h6.T.19900101-19991231.nc',\n",
       " 'ncar-cesm2-lens/tseries/b.e21.BHISTcmip6.f09_g17.LE2-1001.001.cam.h6.T.20000101-20091231.nc',\n",
       " 'ncar-cesm2-lens/tseries/b.e21.BHISTcmip6.f09_g17.LE2-1001.001.cam.h6.T.20100101-20141231.nc']"
      ]
     },
     "execution_count": 6,
     "metadata": {},
     "output_type": "execute_result"
    }
   ],
   "source": [
    "filelist = fs.glob(f'ncar-cesm2-lens/tseries/*nc')\n",
    "filelist"
   ]
  },
  {
   "cell_type": "markdown",
   "id": "7e2194d4-4bee-443f-97e4-dfa8477a60e5",
   "metadata": {},
   "source": [
    "We can check the size of a single dataset here"
   ]
  },
  {
   "cell_type": "code",
   "execution_count": 7,
   "id": "96e7f47b-1848-4fb8-8fe8-e5e11326879e",
   "metadata": {},
   "outputs": [
    {
     "name": "stdout",
     "output_type": "stream",
     "text": [
      "37.649093521 gb\n"
     ]
    }
   ],
   "source": [
    "print(fs.size(filelist[0])/1e9, 'gb')"
   ]
  },
  {
   "cell_type": "markdown",
   "id": "2e332b29-2b46-4917-b7b3-e4a49a17a094",
   "metadata": {},
   "source": [
    "We need to add the `s3://` portion at the beginning to specify this is from the s3 filesystem"
   ]
  },
  {
   "cell_type": "code",
   "execution_count": 8,
   "id": "ae1e59f0-81d1-4aba-82fa-e55385d7deba",
   "metadata": {},
   "outputs": [],
   "source": [
    "urls = [\"s3://\" + f for f in filelist]\n",
    "\n",
    "so = dict(mode='rb', anon=True, default_fill_cache=False, default_cache_type='first')"
   ]
  },
  {
   "cell_type": "markdown",
   "id": "b9133c50-f8ac-4acb-95a5-a7b51535cb86",
   "metadata": {},
   "source": [
    "## Generate the Mapper Files"
   ]
  },
  {
   "cell_type": "markdown",
   "id": "f2f8e282-76e1-4faf-857e-0114768485f2",
   "metadata": {},
   "source": [
    "Set the output directory of the json mapping files"
   ]
  },
  {
   "cell_type": "code",
   "execution_count": 9,
   "id": "e0e30959-6700-4fbd-b37c-be637a737aaf",
   "metadata": {},
   "outputs": [],
   "source": [
    "json_dir = 'test_cesm2_le'"
   ]
  },
  {
   "cell_type": "markdown",
   "id": "4caba124-a001-42ae-bae2-fb9ca019bd8b",
   "metadata": {},
   "source": [
    "We set up a sample file to help with generating these files"
   ]
  },
  {
   "cell_type": "code",
   "execution_count": 10,
   "id": "10c82aca-5134-44f4-897f-bd3bc6b8bc17",
   "metadata": {},
   "outputs": [],
   "source": [
    "def gen_json(u):\n",
    "    with fs.open(u, **so) as infile:\n",
    "        h5chunks = SingleHdf5ToZarr(infile, u, inline_threshold=300)\n",
    "        p = u.split('/')\n",
    "        fname = p[-1]\n",
    "        outf = f'{json_dir}.{fname}.json'\n",
    "        print(outf)\n",
    "        with open(f\"test_cesm2_le/{outf}\", 'wb') as f:\n",
    "            f.write(ujson.dumps(h5chunks.translate()).encode());"
   ]
  },
  {
   "cell_type": "markdown",
   "id": "05f5033b-cad8-4446-b800-b6365c53d8a5",
   "metadata": {},
   "source": [
    "### Spin up a Cluster\n",
    "We will spin up a dask cluster to add distributed/parallel computing - we are spinning up 10 workers, each with 25 GB of RAM and a single processor"
   ]
  },
  {
   "cell_type": "code",
   "execution_count": 11,
   "id": "e5ace880-a4df-4a39-a40a-52e5d2df4251",
   "metadata": {},
   "outputs": [
    {
     "data": {
      "text/html": [
       "<div>\n",
       "    <div style=\"width: 24px; height: 24px; background-color: #e1e1e1; border: 3px solid #9D9D9D; border-radius: 5px; position: absolute;\"> </div>\n",
       "    <div style=\"margin-left: 48px;\">\n",
       "        <h3 style=\"margin-bottom: 0px;\">Client</h3>\n",
       "        <p style=\"color: #9D9D9D; margin-bottom: 0px;\">Client-58254ee9-4240-11ec-b231-3cecef1b126a</p>\n",
       "        <table style=\"width: 100%; text-align: left;\">\n",
       "\n",
       "        <tr>\n",
       "        \n",
       "            <td style=\"text-align: left;\"><strong>Connection method:</strong> Cluster object</td>\n",
       "            <td style=\"text-align: left;\"><strong>Cluster type:</strong> dask_jobqueue.PBSCluster</td>\n",
       "        \n",
       "        </tr>\n",
       "\n",
       "        \n",
       "            <tr>\n",
       "                <td style=\"text-align: left;\">\n",
       "                    <strong>Dashboard: </strong> <a href=\"https://jupyterhub.hpc.ucar.edu/stable/user/mgrover/proxy/8787/status\" target=\"_blank\">https://jupyterhub.hpc.ucar.edu/stable/user/mgrover/proxy/8787/status</a>\n",
       "                </td>\n",
       "                <td style=\"text-align: left;\"></td>\n",
       "            </tr>\n",
       "        \n",
       "\n",
       "        </table>\n",
       "\n",
       "        \n",
       "            <details>\n",
       "            <summary style=\"margin-bottom: 20px;\"><h3 style=\"display: inline;\">Cluster Info</h3></summary>\n",
       "            <div class=\"jp-RenderedHTMLCommon jp-RenderedHTML jp-mod-trusted jp-OutputArea-output\">\n",
       "    <div style=\"width: 24px; height: 24px; background-color: #e1e1e1; border: 3px solid #9D9D9D; border-radius: 5px; position: absolute;\">\n",
       "    </div>\n",
       "    <div style=\"margin-left: 48px;\">\n",
       "        <h3 style=\"margin-bottom: 0px; margin-top: 0px;\">PBSCluster</h3>\n",
       "        <p style=\"color: #9D9D9D; margin-bottom: 0px;\">d6683006</p>\n",
       "        <table style=\"width: 100%; text-align: left;\">\n",
       "            <tr>\n",
       "                <td style=\"text-align: left;\">\n",
       "                    <strong>Dashboard:</strong> <a href=\"https://jupyterhub.hpc.ucar.edu/stable/user/mgrover/proxy/8787/status\" target=\"_blank\">https://jupyterhub.hpc.ucar.edu/stable/user/mgrover/proxy/8787/status</a>\n",
       "                </td>\n",
       "                <td style=\"text-align: left;\">\n",
       "                    <strong>Workers:</strong> 0\n",
       "                </td>\n",
       "            </tr>\n",
       "            <tr>\n",
       "                <td style=\"text-align: left;\">\n",
       "                    <strong>Total threads:</strong> 0\n",
       "                </td>\n",
       "                <td style=\"text-align: left;\">\n",
       "                    <strong>Total memory:</strong> 0 B\n",
       "                </td>\n",
       "            </tr>\n",
       "            \n",
       "        </table>\n",
       "\n",
       "        <details>\n",
       "            <summary style=\"margin-bottom: 20px;\">\n",
       "                <h3 style=\"display: inline;\">Scheduler Info</h3>\n",
       "            </summary>\n",
       "\n",
       "            <div style=\"\">\n",
       "    <div>\n",
       "        <div style=\"width: 24px; height: 24px; background-color: #FFF7E5; border: 3px solid #FF6132; border-radius: 5px; position: absolute;\"> </div>\n",
       "        <div style=\"margin-left: 48px;\">\n",
       "            <h3 style=\"margin-bottom: 0px;\">Scheduler</h3>\n",
       "            <p style=\"color: #9D9D9D; margin-bottom: 0px;\">Scheduler-e5d112aa-0570-49a4-a67d-e03f64797121</p>\n",
       "            <table style=\"width: 100%; text-align: left;\">\n",
       "                <tr>\n",
       "                    <td style=\"text-align: left;\">\n",
       "                        <strong>Comm:</strong> tcp://10.12.206.52:37201\n",
       "                    </td>\n",
       "                    <td style=\"text-align: left;\">\n",
       "                        <strong>Workers:</strong> 0\n",
       "                    </td>\n",
       "                </tr>\n",
       "                <tr>\n",
       "                    <td style=\"text-align: left;\">\n",
       "                        <strong>Dashboard:</strong> <a href=\"https://jupyterhub.hpc.ucar.edu/stable/user/mgrover/proxy/8787/status\" target=\"_blank\">https://jupyterhub.hpc.ucar.edu/stable/user/mgrover/proxy/8787/status</a>\n",
       "                    </td>\n",
       "                    <td style=\"text-align: left;\">\n",
       "                        <strong>Total threads:</strong> 0\n",
       "                    </td>\n",
       "                </tr>\n",
       "                <tr>\n",
       "                    <td style=\"text-align: left;\">\n",
       "                        <strong>Started:</strong> Just now\n",
       "                    </td>\n",
       "                    <td style=\"text-align: left;\">\n",
       "                        <strong>Total memory:</strong> 0 B\n",
       "                    </td>\n",
       "                </tr>\n",
       "            </table>\n",
       "        </div>\n",
       "    </div>\n",
       "\n",
       "    <details style=\"margin-left: 48px;\">\n",
       "        <summary style=\"margin-bottom: 20px;\">\n",
       "            <h3 style=\"display: inline;\">Workers</h3>\n",
       "        </summary>\n",
       "\n",
       "        \n",
       "\n",
       "    </details>\n",
       "</div>\n",
       "\n",
       "        </details>\n",
       "    </div>\n",
       "</div>\n",
       "            </details>\n",
       "        \n",
       "\n",
       "    </div>\n",
       "</div>"
      ],
      "text/plain": [
       "<Client: 'tcp://10.12.206.52:37201' processes=0 threads=0, memory=0 B>"
      ]
     },
     "execution_count": 11,
     "metadata": {},
     "output_type": "execute_result"
    }
   ],
   "source": [
    "cluster = NCARCluster()\n",
    "cluster.scale(10)\n",
    "client = Client(cluster)\n",
    "client"
   ]
  },
  {
   "cell_type": "markdown",
   "id": "5fd14e6b-c787-40ca-9db2-cccfa1be548e",
   "metadata": {},
   "source": [
    "Now that we have our cluster spun up, we can compute these reference files in parallel!"
   ]
  },
  {
   "cell_type": "code",
   "execution_count": 12,
   "id": "0d685a68-8a99-47a4-a3d6-098c2f4c0fa2",
   "metadata": {},
   "outputs": [
    {
     "name": "stdout",
     "output_type": "stream",
     "text": [
      "CPU times: user 7.61 s, sys: 923 ms, total: 8.53 s\n",
      "Wall time: 4min 55s\n"
     ]
    },
    {
     "data": {
      "text/plain": [
       "(None,\n",
       " None,\n",
       " None,\n",
       " None,\n",
       " None,\n",
       " None,\n",
       " None,\n",
       " None,\n",
       " None,\n",
       " None,\n",
       " None,\n",
       " None,\n",
       " None,\n",
       " None,\n",
       " None,\n",
       " None,\n",
       " None)"
      ]
     },
     "execution_count": 12,
     "metadata": {},
     "output_type": "execute_result"
    }
   ],
   "source": [
    "%%time\n",
    "dask.compute(*[dask.delayed(gen_json)(u) for u in urls], retries=10);"
   ]
  },
  {
   "cell_type": "markdown",
   "id": "e07a1e7f-b977-44fc-a545-0dc8adc70e5f",
   "metadata": {},
   "source": [
    "### Merge the reference files together\n",
    "The previous process produced a **single reference file for each netCDF file** - let's merge these all together to create single store."
   ]
  },
  {
   "cell_type": "code",
   "execution_count": 13,
   "id": "b2ad7603-d000-40f6-a8e2-b9c27e51c5b5",
   "metadata": {},
   "outputs": [
    {
     "data": {
      "text/plain": [
       "['test_cesm2_le/test_cesm2_le.b.e21.BHISTcmip6.f09_g17.LE2-1001.001.cam.h6.T.18500101-18591231.nc.json',\n",
       " 'test_cesm2_le/test_cesm2_le.b.e21.BHISTcmip6.f09_g17.LE2-1001.001.cam.h6.T.18600101-18691231.nc.json',\n",
       " 'test_cesm2_le/test_cesm2_le.b.e21.BHISTcmip6.f09_g17.LE2-1001.001.cam.h6.T.18700101-18791231.nc.json',\n",
       " 'test_cesm2_le/test_cesm2_le.b.e21.BHISTcmip6.f09_g17.LE2-1001.001.cam.h6.T.18800101-18891231.nc.json',\n",
       " 'test_cesm2_le/test_cesm2_le.b.e21.BHISTcmip6.f09_g17.LE2-1001.001.cam.h6.T.18900101-18991231.nc.json',\n",
       " 'test_cesm2_le/test_cesm2_le.b.e21.BHISTcmip6.f09_g17.LE2-1001.001.cam.h6.T.19000101-19091231.nc.json',\n",
       " 'test_cesm2_le/test_cesm2_le.b.e21.BHISTcmip6.f09_g17.LE2-1001.001.cam.h6.T.19100101-19191231.nc.json',\n",
       " 'test_cesm2_le/test_cesm2_le.b.e21.BHISTcmip6.f09_g17.LE2-1001.001.cam.h6.T.19200101-19291231.nc.json',\n",
       " 'test_cesm2_le/test_cesm2_le.b.e21.BHISTcmip6.f09_g17.LE2-1001.001.cam.h6.T.19300101-19391231.nc.json',\n",
       " 'test_cesm2_le/test_cesm2_le.b.e21.BHISTcmip6.f09_g17.LE2-1001.001.cam.h6.T.19400101-19491231.nc.json',\n",
       " 'test_cesm2_le/test_cesm2_le.b.e21.BHISTcmip6.f09_g17.LE2-1001.001.cam.h6.T.19500101-19591231.nc.json',\n",
       " 'test_cesm2_le/test_cesm2_le.b.e21.BHISTcmip6.f09_g17.LE2-1001.001.cam.h6.T.19600101-19691231.nc.json',\n",
       " 'test_cesm2_le/test_cesm2_le.b.e21.BHISTcmip6.f09_g17.LE2-1001.001.cam.h6.T.19700101-19791231.nc.json',\n",
       " 'test_cesm2_le/test_cesm2_le.b.e21.BHISTcmip6.f09_g17.LE2-1001.001.cam.h6.T.19800101-19891231.nc.json',\n",
       " 'test_cesm2_le/test_cesm2_le.b.e21.BHISTcmip6.f09_g17.LE2-1001.001.cam.h6.T.19900101-19991231.nc.json',\n",
       " 'test_cesm2_le/test_cesm2_le.b.e21.BHISTcmip6.f09_g17.LE2-1001.001.cam.h6.T.20000101-20091231.nc.json',\n",
       " 'test_cesm2_le/test_cesm2_le.b.e21.BHISTcmip6.f09_g17.LE2-1001.001.cam.h6.T.20100101-20141231.nc.json']"
      ]
     },
     "execution_count": 13,
     "metadata": {},
     "output_type": "execute_result"
    }
   ],
   "source": [
    "furls = sorted(glob.glob('test_cesm2_le/*'))\n",
    "furls"
   ]
  },
  {
   "cell_type": "markdown",
   "id": "bb3b165c-3acd-45a4-917a-933090026098",
   "metadata": {},
   "source": [
    "We need to apply a small fix, specifying the `_FillValue` as a string instead of a bytes object. This is applied to each file upon read-in. We also subset for a single variable, 3D air temperature (`T`)"
   ]
  },
  {
   "cell_type": "code",
   "execution_count": 14,
   "id": "f32de86c-e3b5-4c6b-bb02-64512f6cb678",
   "metadata": {},
   "outputs": [],
   "source": [
    "def fix_attrs(ds):\n",
    "    for var in ds:\n",
    "        ds[var].attrs['_FillValue'] = ds[var]._FillValue.astype(str)\n",
    "    return ds[['T']]"
   ]
  },
  {
   "cell_type": "markdown",
   "id": "f9c507be-0f4b-48c2-bc95-a32142834d7b",
   "metadata": {},
   "source": [
    "Now, we can generate the single store! We add a few extra arguements here... no need to worry about the details here."
   ]
  },
  {
   "cell_type": "code",
   "execution_count": 15,
   "id": "66bf578f-ae73-4a34-a5c9-b0699dcfd16b",
   "metadata": {},
   "outputs": [],
   "source": [
    "mzz = MultiZarrToZarr(furls, \n",
    "    storage_options={'anon':False}, \n",
    "    remote_protocol='s3',\n",
    "    remote_options={'anon' : 'True'},   #JSON files  \n",
    "    xarray_open_kwargs={\n",
    "        'decode_cf' : False,\n",
    "        'mask_and_scale' : False,\n",
    "        'decode_times' : False,\n",
    "        'use_cftime' : False,\n",
    "        'drop_variables': ['reference_time'],\n",
    "        'decode_coords' : False\n",
    "    },\n",
    "    xarray_concat_args={\n",
    "        \"join\": \"override\",\n",
    "        \"combine_attrs\": \"override\",\n",
    "        \"dim\": \"time\"\n",
    "    },\n",
    "    preprocess=fix_attrs\n",
    ")"
   ]
  },
  {
   "cell_type": "code",
   "execution_count": 16,
   "id": "39fa8828-d823-40a8-861e-a46c3103ff7d",
   "metadata": {},
   "outputs": [
    {
     "name": "stdout",
     "output_type": "stream",
     "text": [
      "CPU times: user 12.3 s, sys: 411 ms, total: 12.7 s\n",
      "Wall time: 17.1 s\n"
     ]
    }
   ],
   "source": [
    "%%time\n",
    "#%%prun -D multizarr_profile \n",
    "mzz.translate('cesm2-le-tseries-aws.json')"
   ]
  },
  {
   "cell_type": "markdown",
   "id": "6c532871-59ef-48e3-b1d5-b59d73304e69",
   "metadata": {
    "tags": []
   },
   "source": [
    "---\n",
    "## Read directly from S3 (without `kerchunk`)\n",
    "We went through all that work previously, but let's take a look at what the performance would be ***without*** using this new `Kerchunk` package."
   ]
  },
  {
   "cell_type": "code",
   "execution_count": 17,
   "id": "48b37520-ec2a-406a-9bc2-5fe229ba2d95",
   "metadata": {},
   "outputs": [],
   "source": [
    "fs_s3 = s3fs.S3FileSystem(anon=True)"
   ]
  },
  {
   "cell_type": "code",
   "execution_count": 18,
   "id": "8b28dea5-d1dc-444b-826e-852e00c669e1",
   "metadata": {},
   "outputs": [],
   "source": [
    "def read_through_xarray(filelist):\n",
    "    ds_list = []\n",
    "\n",
    "    for file in filelist:\n",
    "        remote_file_obj = fs_s3.open(file, mode='rb')\n",
    "        ds_list.append(xr.open_dataset(remote_file_obj, engine='h5netcdf', chunks={})[['T']])\n",
    "        \n",
    "    return xr.concat(ds_list, dim='time')"
   ]
  },
  {
   "cell_type": "markdown",
   "id": "76f98fe2-1832-403e-a97e-80bfa63c2a1a",
   "metadata": {},
   "source": [
    "Our wall time for lazily reading in the datasets isn't **too** bad..."
   ]
  },
  {
   "cell_type": "code",
   "execution_count": 19,
   "id": "57ab3c76-ad2c-4e61-8022-8198cf874736",
   "metadata": {},
   "outputs": [
    {
     "name": "stdout",
     "output_type": "stream",
     "text": [
      "CPU times: user 7.45 s, sys: 979 ms, total: 8.43 s\n",
      "Wall time: 25.6 s\n"
     ]
    }
   ],
   "source": [
    "%%time\n",
    "ds_read_directly = read_through_xarray(filelist)"
   ]
  },
  {
   "cell_type": "markdown",
   "id": "36d0cec1-8a48-40a1-b121-a4cf8e078f00",
   "metadata": {},
   "source": [
    "But, if we actually load in some data to plot, you'll see that it is pretty slow..."
   ]
  },
  {
   "cell_type": "code",
   "execution_count": 20,
   "id": "879ecab0-5e12-460f-847c-31c03fa78272",
   "metadata": {},
   "outputs": [
    {
     "name": "stderr",
     "output_type": "stream",
     "text": [
      "WARNING:param.CurvePlot01659: Converting cftime.datetime from a non-standard calendar (noleap) to a standard calendar for plotting. This may lead to subtle errors in formatting dates, for accurate tick formatting switch to the matplotlib backend.\n"
     ]
    },
    {
     "name": "stdout",
     "output_type": "stream",
     "text": [
      "CPU times: user 18.1 s, sys: 1.07 s, total: 19.2 s\n",
      "Wall time: 6min 45s\n"
     ]
    },
    {
     "data": {},
     "metadata": {},
     "output_type": "display_data"
    },
    {
     "data": {
      "application/vnd.holoviews_exec.v0+json": "",
      "text/html": [
       "<div id='29228'>\n",
       "\n",
       "\n",
       "\n",
       "\n",
       "\n",
       "  <div class=\"bk-root\" id=\"10f949e9-4671-44fe-ae46-316594fc2a94\" data-root-id=\"29228\"></div>\n",
       "</div>\n",
       "<script type=\"application/javascript\">(function(root) {\n",
       "  function embed_document(root) {\n",
       "    var docs_json = {\"58f40f4c-f47d-41b0-9bf9-395a0ca605ab\":{\"defs\":[{\"extends\":null,\"module\":null,\"name\":\"ReactiveHTML1\",\"overrides\":[],\"properties\":[]},{\"extends\":null,\"module\":null,\"name\":\"FlexBox1\",\"overrides\":[],\"properties\":[{\"default\":\"flex-start\",\"kind\":null,\"name\":\"align_content\"},{\"default\":\"flex-start\",\"kind\":null,\"name\":\"align_items\"},{\"default\":\"row\",\"kind\":null,\"name\":\"flex_direction\"},{\"default\":\"wrap\",\"kind\":null,\"name\":\"flex_wrap\"},{\"default\":\"flex-start\",\"kind\":null,\"name\":\"justify_content\"}]},{\"extends\":null,\"module\":null,\"name\":\"TemplateActions1\",\"overrides\":[],\"properties\":[{\"default\":0,\"kind\":null,\"name\":\"open_modal\"},{\"default\":0,\"kind\":null,\"name\":\"close_modal\"}]},{\"extends\":null,\"module\":null,\"name\":\"MaterialTemplateActions1\",\"overrides\":[],\"properties\":[{\"default\":0,\"kind\":null,\"name\":\"open_modal\"},{\"default\":0,\"kind\":null,\"name\":\"close_modal\"}]}],\"roots\":{\"references\":[{\"attributes\":{},\"id\":\"29251\",\"type\":\"BasicTicker\"},{\"attributes\":{\"days\":[1,4,7,10,13,16,19,22,25,28]},\"id\":\"29298\",\"type\":\"DaysTicker\"},{\"attributes\":{\"base\":24,\"mantissas\":[1,2,4,6,8,12],\"max_interval\":43200000.0,\"min_interval\":3600000.0,\"num_minor_ticks\":0},\"id\":\"29296\",\"type\":\"AdaptiveTicker\"},{\"attributes\":{\"line_alpha\":0.2,\"line_color\":\"#30a2da\",\"line_width\":2,\"x\":{\"field\":\"time\"},\"y\":{\"field\":\"T\"}},\"id\":\"29272\",\"type\":\"Line\"},{\"attributes\":{},\"id\":\"29280\",\"type\":\"BasicTickFormatter\"},{\"attributes\":{},\"id\":\"29254\",\"type\":\"SaveTool\"},{\"attributes\":{\"mantissas\":[1,2,5],\"max_interval\":500.0,\"num_minor_ticks\":0},\"id\":\"29294\",\"type\":\"AdaptiveTicker\"},{\"attributes\":{\"days\":[1,2,3,4,5,6,7,8,9,10,11,12,13,14,15,16,17,18,19,20,21,22,23,24,25,26,27,28,29,30,31]},\"id\":\"29297\",\"type\":\"DaysTicker\"},{\"attributes\":{\"months\":[0,6]},\"id\":\"29304\",\"type\":\"MonthsTicker\"},{\"attributes\":{\"line_color\":\"#30a2da\",\"line_width\":2,\"x\":{\"field\":\"time\"},\"y\":{\"field\":\"T\"}},\"id\":\"29275\",\"type\":\"Line\"},{\"attributes\":{},\"id\":\"29242\",\"type\":\"LinearScale\"},{\"attributes\":{\"axis_label\":\"time\",\"coordinates\":null,\"formatter\":{\"id\":\"29277\"},\"group\":null,\"major_label_policy\":{\"id\":\"29278\"},\"ticker\":{\"id\":\"29247\"}},\"id\":\"29246\",\"type\":\"DatetimeAxis\"},{\"attributes\":{\"callback\":null,\"renderers\":[{\"id\":\"29273\"}],\"tags\":[\"hv_created\"],\"tooltips\":[[\"time\",\"@{time}\"],[\"Temperature (K)\",\"@{T}\"]]},\"id\":\"29236\",\"type\":\"HoverTool\"},{\"attributes\":{\"days\":[1,8,15,22]},\"id\":\"29299\",\"type\":\"DaysTicker\"},{\"attributes\":{},\"id\":\"29278\",\"type\":\"AllLabels\"},{\"attributes\":{\"line_color\":\"#30a2da\",\"line_width\":2,\"x\":{\"field\":\"time\"},\"y\":{\"field\":\"T\"}},\"id\":\"29270\",\"type\":\"Line\"},{\"attributes\":{},\"id\":\"29256\",\"type\":\"WheelZoomTool\"},{\"attributes\":{\"num_minor_ticks\":5,\"tickers\":[{\"id\":\"29294\"},{\"id\":\"29295\"},{\"id\":\"29296\"},{\"id\":\"29297\"},{\"id\":\"29298\"},{\"id\":\"29299\"},{\"id\":\"29300\"},{\"id\":\"29301\"},{\"id\":\"29302\"},{\"id\":\"29303\"},{\"id\":\"29304\"},{\"id\":\"29305\"}]},\"id\":\"29247\",\"type\":\"DatetimeTicker\"},{\"attributes\":{\"months\":[0,1,2,3,4,5,6,7,8,9,10,11]},\"id\":\"29301\",\"type\":\"MonthsTicker\"},{\"attributes\":{\"tools\":[{\"id\":\"29236\"},{\"id\":\"29254\"},{\"id\":\"29255\"},{\"id\":\"29256\"},{\"id\":\"29257\"},{\"id\":\"29258\"}]},\"id\":\"29260\",\"type\":\"Toolbar\"},{\"attributes\":{\"bottom_units\":\"screen\",\"coordinates\":null,\"fill_alpha\":0.5,\"fill_color\":\"lightgrey\",\"group\":null,\"left_units\":\"screen\",\"level\":\"overlay\",\"line_alpha\":1.0,\"line_color\":\"black\",\"line_dash\":[4,4],\"line_width\":2,\"right_units\":\"screen\",\"syncable\":false,\"top_units\":\"screen\"},\"id\":\"29259\",\"type\":\"BoxAnnotation\"},{\"attributes\":{},\"id\":\"29258\",\"type\":\"ResetTool\"},{\"attributes\":{},\"id\":\"29277\",\"type\":\"DatetimeTickFormatter\"},{\"attributes\":{\"end\":-3660681600000.0,\"reset_end\":-3660681600000.0,\"reset_start\":-3786825600000.0,\"start\":-3786825600000.0,\"tags\":[[[\"time\",\"time\",null]]]},\"id\":\"29234\",\"type\":\"Range1d\"},{\"attributes\":{},\"id\":\"29255\",\"type\":\"PanTool\"},{\"attributes\":{\"axis\":{\"id\":\"29246\"},\"coordinates\":null,\"group\":null,\"ticker\":{\"id\":\"29247\"}},\"id\":\"29249\",\"type\":\"Grid\"},{\"attributes\":{\"coordinates\":null,\"data_source\":{\"id\":\"29267\"},\"glyph\":{\"id\":\"29270\"},\"group\":null,\"hover_glyph\":null,\"muted_glyph\":{\"id\":\"29272\"},\"nonselection_glyph\":{\"id\":\"29271\"},\"selection_glyph\":{\"id\":\"29275\"},\"view\":{\"id\":\"29274\"}},\"id\":\"29273\",\"type\":\"GlyphRenderer\"},{\"attributes\":{\"base\":60,\"mantissas\":[1,2,5,10,15,20,30],\"max_interval\":1800000.0,\"min_interval\":1000.0,\"num_minor_ticks\":0},\"id\":\"29295\",\"type\":\"AdaptiveTicker\"},{\"attributes\":{},\"id\":\"29305\",\"type\":\"YearsTicker\"},{\"attributes\":{},\"id\":\"29244\",\"type\":\"LinearScale\"},{\"attributes\":{},\"id\":\"29268\",\"type\":\"Selection\"},{\"attributes\":{\"margin\":[5,5,5,5],\"name\":\"HSpacer01635\",\"sizing_mode\":\"stretch_width\"},\"id\":\"29328\",\"type\":\"Spacer\"},{\"attributes\":{\"margin\":[5,5,5,5],\"name\":\"HSpacer01634\",\"sizing_mode\":\"stretch_width\"},\"id\":\"29229\",\"type\":\"Spacer\"},{\"attributes\":{\"axis\":{\"id\":\"29250\"},\"coordinates\":null,\"dimension\":1,\"group\":null,\"ticker\":{\"id\":\"29251\"}},\"id\":\"29253\",\"type\":\"Grid\"},{\"attributes\":{},\"id\":\"29281\",\"type\":\"AllLabels\"},{\"attributes\":{\"months\":[0,2,4,6,8,10]},\"id\":\"29302\",\"type\":\"MonthsTicker\"},{\"attributes\":{\"months\":[0,4,8]},\"id\":\"29303\",\"type\":\"MonthsTicker\"},{\"attributes\":{\"data\":{\"T\":{\"__ndarray__\":\"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\",\"dtype\":\"float64\",\"order\":\"little\",\"shape\":[1460]},\"time\":{\"__ndarray__\":\"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\",\"dtype\":\"float64\",\"order\":\"little\",\"shape\":[1460]}},\"selected\":{\"id\":\"29268\"},\"selection_policy\":{\"id\":\"29291\"}},\"id\":\"29267\",\"type\":\"ColumnDataSource\"},{\"attributes\":{\"end\":260.2637354913123,\"reset_end\":260.2637354913123,\"reset_start\":242.3152363125466,\"start\":242.3152363125466,\"tags\":[[[\"T\",\"Temperature\",\"K\"]]]},\"id\":\"29235\",\"type\":\"Range1d\"},{\"attributes\":{\"below\":[{\"id\":\"29246\"}],\"center\":[{\"id\":\"29249\"},{\"id\":\"29253\"}],\"height\":300,\"left\":[{\"id\":\"29250\"}],\"margin\":[5,5,5,5],\"min_border_bottom\":10,\"min_border_left\":10,\"min_border_right\":10,\"min_border_top\":10,\"renderers\":[{\"id\":\"29273\"}],\"sizing_mode\":\"fixed\",\"title\":{\"id\":\"29238\"},\"toolbar\":{\"id\":\"29260\"},\"width\":700,\"x_range\":{\"id\":\"29234\"},\"x_scale\":{\"id\":\"29242\"},\"y_range\":{\"id\":\"29235\"},\"y_scale\":{\"id\":\"29244\"}},\"id\":\"29237\",\"subtype\":\"Figure\",\"type\":\"Plot\"},{\"attributes\":{\"axis_label\":\"Temperature (K)\",\"coordinates\":null,\"formatter\":{\"id\":\"29280\"},\"group\":null,\"major_label_policy\":{\"id\":\"29281\"},\"ticker\":{\"id\":\"29251\"}},\"id\":\"29250\",\"type\":\"LinearAxis\"},{\"attributes\":{\"source\":{\"id\":\"29267\"}},\"id\":\"29274\",\"type\":\"CDSView\"},{\"attributes\":{\"children\":[{\"id\":\"29229\"},{\"id\":\"29237\"},{\"id\":\"29328\"}],\"margin\":[0,0,0,0],\"name\":\"Row01630\",\"tags\":[\"embedded\"]},\"id\":\"29228\",\"type\":\"Row\"},{\"attributes\":{\"overlay\":{\"id\":\"29259\"}},\"id\":\"29257\",\"type\":\"BoxZoomTool\"},{\"attributes\":{},\"id\":\"29291\",\"type\":\"UnionRenderers\"},{\"attributes\":{\"line_alpha\":0.1,\"line_color\":\"#30a2da\",\"line_width\":2,\"x\":{\"field\":\"time\"},\"y\":{\"field\":\"T\"}},\"id\":\"29271\",\"type\":\"Line\"},{\"attributes\":{\"days\":[1,15]},\"id\":\"29300\",\"type\":\"DaysTicker\"},{\"attributes\":{\"coordinates\":null,\"group\":null,\"text_color\":\"black\",\"text_font_size\":\"12pt\"},\"id\":\"29238\",\"type\":\"Title\"}],\"root_ids\":[\"29228\"]},\"title\":\"Bokeh Application\",\"version\":\"2.4.1\"}};\n",
       "    var render_items = [{\"docid\":\"58f40f4c-f47d-41b0-9bf9-395a0ca605ab\",\"root_ids\":[\"29228\"],\"roots\":{\"29228\":\"10f949e9-4671-44fe-ae46-316594fc2a94\"}}];\n",
       "    root.Bokeh.embed.embed_items_notebook(docs_json, render_items);\n",
       "  }\n",
       "  if (root.Bokeh !== undefined && root.Bokeh.Panel !== undefined) {\n",
       "    embed_document(root);\n",
       "  } else {\n",
       "    var attempts = 0;\n",
       "    var timer = setInterval(function(root) {\n",
       "      if (root.Bokeh !== undefined && root.Bokeh.Panel !== undefined) {\n",
       "        clearInterval(timer);\n",
       "        embed_document(root);\n",
       "      } else if (document.readyState == \"complete\") {\n",
       "        attempts++;\n",
       "        if (attempts > 200) {\n",
       "          clearInterval(timer);\n",
       "          console.log(\"Bokeh: ERROR: Unable to run BokehJS code because BokehJS library is missing\");\n",
       "        }\n",
       "      }\n",
       "    }, 25, root)\n",
       "  }\n",
       "})(window);</script>"
      ],
      "text/plain": [
       ":Curve   [time]   (T)"
      ]
     },
     "execution_count": 20,
     "metadata": {
      "application/vnd.holoviews_exec.v0+json": {
       "id": "29228"
      }
     },
     "output_type": "execute_result"
    }
   ],
   "source": [
    "%%time\n",
    "ds_read_directly.T[:1460, 0, 100, 100].hvplot(x='time', grid=True)"
   ]
  },
  {
   "cell_type": "markdown",
   "id": "ad488a8f-d6fc-401d-82dc-896a330361cd",
   "metadata": {},
   "source": [
    "## Benchmark Reading in from `Kerchunk` mappings\n",
    "`fsspec` recently implemented "
   ]
  },
  {
   "cell_type": "code",
   "execution_count": 21,
   "id": "b0f87a7d-c762-4155-8c1d-613339c28b38",
   "metadata": {},
   "outputs": [],
   "source": [
    "rpath = 'cesm2-le-tseries-aws.json'\n",
    "s_opts = {'skip_instance_cache':True}\n",
    "r_opts = {'anon':True}\n",
    "fs = fsspec.filesystem(\"reference\", fo=rpath,\n",
    "                       remote_protocol='s3', remote_options=r_opts)"
   ]
  },
  {
   "cell_type": "code",
   "execution_count": 22,
   "id": "0e057725-e3ea-4c98-b408-c7f85ec1c6ef",
   "metadata": {},
   "outputs": [],
   "source": [
    "m = fs.get_mapper(\"\")"
   ]
  },
  {
   "cell_type": "code",
   "execution_count": 25,
   "id": "e813c8d4-8cdb-4891-93fd-a9a214f18159",
   "metadata": {},
   "outputs": [
    {
     "name": "stderr",
     "output_type": "stream",
     "text": [
      "<timed exec>:1: RuntimeWarning: Failed to open Zarr store with consolidated metadata, falling back to try reading non-consolidated metadata. This is typically much slower for opening a dataset. To silence this warning, consider:\n",
      "1. Consolidating metadata in this existing store with zarr.consolidate_metadata().\n",
      "2. Explicitly setting consolidated=False, to avoid trying to read consolidate metadata, or\n",
      "3. Explicitly setting consolidated=True, to raise an error in this case instead of falling back to try reading non-consolidated metadata.\n"
     ]
    },
    {
     "name": "stdout",
     "output_type": "stream",
     "text": [
      "CPU times: user 2.76 s, sys: 82.7 ms, total: 2.84 s\n",
      "Wall time: 3.32 s\n"
     ]
    }
   ],
   "source": [
    "%%time\n",
    "ds = xr.open_dataset(m, engine=\"zarr\", decode_times=False)"
   ]
  },
  {
   "cell_type": "markdown",
   "id": "ba02f796-a0ce-49b6-8cca-6279869ed305",
   "metadata": {},
   "source": [
    "### Plot the output from the Mapper Method"
   ]
  },
  {
   "cell_type": "code",
   "execution_count": 26,
   "id": "949c030a-9575-4ff3-bfb6-8b4d0d5c912e",
   "metadata": {},
   "outputs": [
    {
     "name": "stdout",
     "output_type": "stream",
     "text": [
      "CPU times: user 21.3 s, sys: 1.94 s, total: 23.2 s\n",
      "Wall time: 40.3 s\n"
     ]
    },
    {
     "data": {},
     "metadata": {},
     "output_type": "display_data"
    },
    {
     "data": {
      "application/vnd.holoviews_exec.v0+json": "",
      "text/html": [
       "<div id='32231'>\n",
       "\n",
       "\n",
       "\n",
       "\n",
       "\n",
       "  <div class=\"bk-root\" id=\"3176be42-76c7-47bc-9ab3-9953f3bd2a7b\" data-root-id=\"32231\"></div>\n",
       "</div>\n",
       "<script type=\"application/javascript\">(function(root) {\n",
       "  function embed_document(root) {\n",
       "    var docs_json = {\"c16f6350-c513-4d61-80cb-62779607bc1a\":{\"defs\":[{\"extends\":null,\"module\":null,\"name\":\"ReactiveHTML1\",\"overrides\":[],\"properties\":[]},{\"extends\":null,\"module\":null,\"name\":\"FlexBox1\",\"overrides\":[],\"properties\":[{\"default\":\"flex-start\",\"kind\":null,\"name\":\"align_content\"},{\"default\":\"flex-start\",\"kind\":null,\"name\":\"align_items\"},{\"default\":\"row\",\"kind\":null,\"name\":\"flex_direction\"},{\"default\":\"wrap\",\"kind\":null,\"name\":\"flex_wrap\"},{\"default\":\"flex-start\",\"kind\":null,\"name\":\"justify_content\"}]},{\"extends\":null,\"module\":null,\"name\":\"TemplateActions1\",\"overrides\":[],\"properties\":[{\"default\":0,\"kind\":null,\"name\":\"open_modal\"},{\"default\":0,\"kind\":null,\"name\":\"close_modal\"}]},{\"extends\":null,\"module\":null,\"name\":\"MaterialTemplateActions1\",\"overrides\":[],\"properties\":[{\"default\":0,\"kind\":null,\"name\":\"open_modal\"},{\"default\":0,\"kind\":null,\"name\":\"close_modal\"}]}],\"roots\":{\"references\":[{\"attributes\":{\"axis\":{\"id\":\"32245\"},\"coordinates\":null,\"group\":null,\"ticker\":{\"id\":\"32246\"}},\"id\":\"32248\",\"type\":\"Grid\"},{\"attributes\":{},\"id\":\"32267\",\"type\":\"Selection\"},{\"attributes\":{\"coordinates\":null,\"data_source\":{\"id\":\"32266\"},\"glyph\":{\"id\":\"32269\"},\"group\":null,\"hover_glyph\":null,\"muted_glyph\":{\"id\":\"32271\"},\"nonselection_glyph\":{\"id\":\"32270\"},\"selection_glyph\":{\"id\":\"32274\"},\"view\":{\"id\":\"32273\"}},\"id\":\"32272\",\"type\":\"GlyphRenderer\"},{\"attributes\":{},\"id\":\"32246\",\"type\":\"BasicTicker\"},{\"attributes\":{},\"id\":\"32254\",\"type\":\"PanTool\"},{\"attributes\":{\"line_color\":\"#30a2da\",\"line_width\":2,\"x\":{\"field\":\"time\"},\"y\":{\"field\":\"T\"}},\"id\":\"32269\",\"type\":\"Line\"},{\"attributes\":{\"margin\":[5,5,5,5],\"name\":\"HSpacer01815\",\"sizing_mode\":\"stretch_width\"},\"id\":\"32232\",\"type\":\"Spacer\"},{\"attributes\":{\"tools\":[{\"id\":\"32235\"},{\"id\":\"32253\"},{\"id\":\"32254\"},{\"id\":\"32255\"},{\"id\":\"32256\"},{\"id\":\"32257\"}]},\"id\":\"32259\",\"type\":\"Toolbar\"},{\"attributes\":{\"axis\":{\"id\":\"32249\"},\"coordinates\":null,\"dimension\":1,\"group\":null,\"ticker\":{\"id\":\"32250\"}},\"id\":\"32252\",\"type\":\"Grid\"},{\"attributes\":{\"axis_label\":\"time (days since 1850-01-01 00:00:00)\",\"coordinates\":null,\"formatter\":{\"id\":\"32276\"},\"group\":null,\"major_label_policy\":{\"id\":\"32277\"},\"ticker\":{\"id\":\"32246\"}},\"id\":\"32245\",\"type\":\"LinearAxis\"},{\"attributes\":{},\"id\":\"32241\",\"type\":\"LinearScale\"},{\"attributes\":{\"source\":{\"id\":\"32266\"}},\"id\":\"32273\",\"type\":\"CDSView\"},{\"attributes\":{\"line_alpha\":0.2,\"line_color\":\"#30a2da\",\"line_width\":2,\"x\":{\"field\":\"time\"},\"y\":{\"field\":\"T\"}},\"id\":\"32271\",\"type\":\"Line\"},{\"attributes\":{\"below\":[{\"id\":\"32245\"}],\"center\":[{\"id\":\"32248\"},{\"id\":\"32252\"}],\"height\":300,\"left\":[{\"id\":\"32249\"}],\"margin\":[5,5,5,5],\"min_border_bottom\":10,\"min_border_left\":10,\"min_border_right\":10,\"min_border_top\":10,\"renderers\":[{\"id\":\"32272\"}],\"sizing_mode\":\"fixed\",\"title\":{\"id\":\"32237\"},\"toolbar\":{\"id\":\"32259\"},\"width\":700,\"x_range\":{\"id\":\"32233\"},\"x_scale\":{\"id\":\"32241\"},\"y_range\":{\"id\":\"32234\"},\"y_scale\":{\"id\":\"32243\"}},\"id\":\"32236\",\"subtype\":\"Figure\",\"type\":\"Plot\"},{\"attributes\":{\"end\":1459.0,\"reset_end\":1459.0,\"reset_start\":1.0,\"start\":1.0,\"tags\":[[[\"time\",\"time\",\"days since 1850-01-01 00:00:00\"]]]},\"id\":\"32233\",\"type\":\"Range1d\"},{\"attributes\":{\"line_color\":\"#30a2da\",\"line_width\":2,\"x\":{\"field\":\"time\"},\"y\":{\"field\":\"T\"}},\"id\":\"32274\",\"type\":\"Line\"},{\"attributes\":{},\"id\":\"32243\",\"type\":\"LinearScale\"},{\"attributes\":{},\"id\":\"32255\",\"type\":\"WheelZoomTool\"},{\"attributes\":{\"coordinates\":null,\"group\":null,\"text_color\":\"black\",\"text_font_size\":\"12pt\"},\"id\":\"32237\",\"type\":\"Title\"},{\"attributes\":{\"line_alpha\":0.1,\"line_color\":\"#30a2da\",\"line_width\":2,\"x\":{\"field\":\"time\"},\"y\":{\"field\":\"T\"}},\"id\":\"32270\",\"type\":\"Line\"},{\"attributes\":{\"children\":[{\"id\":\"32232\"},{\"id\":\"32236\"},{\"id\":\"32303\"}],\"margin\":[0,0,0,0],\"name\":\"Row01811\",\"tags\":[\"embedded\"]},\"id\":\"32231\",\"type\":\"Row\"},{\"attributes\":{\"data\":{\"T\":{\"__ndarray__\":\"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\",\"dtype\":\"float64\",\"order\":\"little\",\"shape\":[1460]},\"time\":{\"__ndarray__\":\"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\",\"dtype\":\"float64\",\"order\":\"little\",\"shape\":[1460]}},\"selected\":{\"id\":\"32267\"},\"selection_policy\":{\"id\":\"32290\"}},\"id\":\"32266\",\"type\":\"ColumnDataSource\"},{\"attributes\":{},\"id\":\"32280\",\"type\":\"AllLabels\"},{\"attributes\":{},\"id\":\"32250\",\"type\":\"BasicTicker\"},{\"attributes\":{},\"id\":\"32253\",\"type\":\"SaveTool\"},{\"attributes\":{\"callback\":null,\"renderers\":[{\"id\":\"32272\"}],\"tags\":[\"hv_created\"],\"tooltips\":[[\"time (days since 1850-01-01 00:00:00)\",\"@{time}\"],[\"Temperature (K)\",\"@{T}\"]]},\"id\":\"32235\",\"type\":\"HoverTool\"},{\"attributes\":{},\"id\":\"32290\",\"type\":\"UnionRenderers\"},{\"attributes\":{},\"id\":\"32276\",\"type\":\"BasicTickFormatter\"},{\"attributes\":{\"overlay\":{\"id\":\"32258\"}},\"id\":\"32256\",\"type\":\"BoxZoomTool\"},{\"attributes\":{},\"id\":\"32257\",\"type\":\"ResetTool\"},{\"attributes\":{\"bottom_units\":\"screen\",\"coordinates\":null,\"fill_alpha\":0.5,\"fill_color\":\"lightgrey\",\"group\":null,\"left_units\":\"screen\",\"level\":\"overlay\",\"line_alpha\":1.0,\"line_color\":\"black\",\"line_dash\":[4,4],\"line_width\":2,\"right_units\":\"screen\",\"syncable\":false,\"top_units\":\"screen\"},\"id\":\"32258\",\"type\":\"BoxAnnotation\"},{\"attributes\":{},\"id\":\"32277\",\"type\":\"AllLabels\"},{\"attributes\":{\"margin\":[5,5,5,5],\"name\":\"HSpacer01816\",\"sizing_mode\":\"stretch_width\"},\"id\":\"32303\",\"type\":\"Spacer\"},{\"attributes\":{\"end\":260.2637354913123,\"reset_end\":260.2637354913123,\"reset_start\":242.3152363125466,\"start\":242.3152363125466,\"tags\":[[[\"T\",\"Temperature\",\"K\"]]]},\"id\":\"32234\",\"type\":\"Range1d\"},{\"attributes\":{},\"id\":\"32279\",\"type\":\"BasicTickFormatter\"},{\"attributes\":{\"axis_label\":\"Temperature (K)\",\"coordinates\":null,\"formatter\":{\"id\":\"32279\"},\"group\":null,\"major_label_policy\":{\"id\":\"32280\"},\"ticker\":{\"id\":\"32250\"}},\"id\":\"32249\",\"type\":\"LinearAxis\"}],\"root_ids\":[\"32231\"]},\"title\":\"Bokeh Application\",\"version\":\"2.4.1\"}};\n",
       "    var render_items = [{\"docid\":\"c16f6350-c513-4d61-80cb-62779607bc1a\",\"root_ids\":[\"32231\"],\"roots\":{\"32231\":\"3176be42-76c7-47bc-9ab3-9953f3bd2a7b\"}}];\n",
       "    root.Bokeh.embed.embed_items_notebook(docs_json, render_items);\n",
       "  }\n",
       "  if (root.Bokeh !== undefined && root.Bokeh.Panel !== undefined) {\n",
       "    embed_document(root);\n",
       "  } else {\n",
       "    var attempts = 0;\n",
       "    var timer = setInterval(function(root) {\n",
       "      if (root.Bokeh !== undefined && root.Bokeh.Panel !== undefined) {\n",
       "        clearInterval(timer);\n",
       "        embed_document(root);\n",
       "      } else if (document.readyState == \"complete\") {\n",
       "        attempts++;\n",
       "        if (attempts > 200) {\n",
       "          clearInterval(timer);\n",
       "          console.log(\"Bokeh: ERROR: Unable to run BokehJS code because BokehJS library is missing\");\n",
       "        }\n",
       "      }\n",
       "    }, 25, root)\n",
       "  }\n",
       "})(window);</script>"
      ],
      "text/plain": [
       ":Curve   [time]   (T)"
      ]
     },
     "execution_count": 26,
     "metadata": {
      "application/vnd.holoviews_exec.v0+json": {
       "id": "32231"
      }
     },
     "output_type": "execute_result"
    }
   ],
   "source": [
    "%%time\n",
    "ds.T[:1460, 0, 100, 100].hvplot(x='time', grid=True)"
   ]
  },
  {
   "cell_type": "code",
   "execution_count": null,
   "id": "9567e495-135f-449b-a920-973693172db7",
   "metadata": {},
   "outputs": [],
   "source": []
  }
 ],
 "metadata": {
  "kernelspec": {
   "display_name": "Python [conda env:miniconda3-cesm-fsspec-tutorial]",
   "language": "python",
   "name": "conda-env-miniconda3-cesm-fsspec-tutorial-py"
  },
  "language_info": {
   "codemirror_mode": {
    "name": "ipython",
    "version": 3
   },
   "file_extension": ".py",
   "mimetype": "text/x-python",
   "name": "python",
   "nbconvert_exporter": "python",
   "pygments_lexer": "ipython3",
   "version": "3.9.6"
  }
 },
 "nbformat": 4,
 "nbformat_minor": 5
}
